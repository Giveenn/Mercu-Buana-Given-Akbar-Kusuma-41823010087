{
  "nbformat": 4,
  "nbformat_minor": 0,
  "metadata": {
    "colab": {
      "provenance": []
    },
    "kernelspec": {
      "name": "python3",
      "display_name": "Python 3"
    },
    "language_info": {
      "name": "python"
    }
  },
  "cells": [
    {
      "cell_type": "code",
      "execution_count": 8,
      "metadata": {
        "colab": {
          "base_uri": "https://localhost:8080/",
          "height": 228
        },
        "id": "7GX0bvREF-h6",
        "outputId": "e21aa070-4e95-41ed-f25f-56e6aa153be4"
      },
      "outputs": [
        {
          "output_type": "stream",
          "name": "stdout",
          "text": [
            "This  is  Matrix     \n"
          ]
        },
        {
          "output_type": "error",
          "ename": "FileNotFoundError",
          "evalue": "[Errno 2] No such file or directory: 'neomatrix.txt'",
          "traceback": [
            "\u001b[0;31m---------------------------------------------------------------------------\u001b[0m",
            "\u001b[0;31mFileNotFoundError\u001b[0m                         Traceback (most recent call last)",
            "\u001b[0;32m<ipython-input-8-7c687805b29a>\u001b[0m in \u001b[0;36m<cell line: 69>\u001b[0;34m()\u001b[0m\n\u001b[1;32m     67\u001b[0m \u001b[0;34m\u001b[0m\u001b[0m\n\u001b[1;32m     68\u001b[0m \u001b[0;31m# Baca dan mendekode dari file txt = neomatrix.txt\u001b[0m\u001b[0;34m\u001b[0m\u001b[0;34m\u001b[0m\u001b[0m\n\u001b[0;32m---> 69\u001b[0;31m \u001b[0;32mwith\u001b[0m \u001b[0mopen\u001b[0m\u001b[0;34m(\u001b[0m\u001b[0;34m'neomatrix.txt'\u001b[0m\u001b[0;34m,\u001b[0m \u001b[0;34m'r'\u001b[0m\u001b[0;34m)\u001b[0m \u001b[0;32mas\u001b[0m \u001b[0mfile\u001b[0m\u001b[0;34m:\u001b[0m\u001b[0;34m\u001b[0m\u001b[0;34m\u001b[0m\u001b[0m\n\u001b[0m\u001b[1;32m     70\u001b[0m     \u001b[0minput_matrix\u001b[0m \u001b[0;34m=\u001b[0m \u001b[0mfile\u001b[0m\u001b[0;34m.\u001b[0m\u001b[0mreadlines\u001b[0m\u001b[0;34m(\u001b[0m\u001b[0;34m)\u001b[0m\u001b[0;34m\u001b[0m\u001b[0;34m\u001b[0m\u001b[0m\n\u001b[1;32m     71\u001b[0m \u001b[0;34m\u001b[0m\u001b[0m\n",
            "\u001b[0;31mFileNotFoundError\u001b[0m: [Errno 2] No such file or directory: 'neomatrix.txt'"
          ]
        }
      ],
      "source": [
        "# Given Akbar Kusuma - 41823010087\n",
        "# Universitas Mercu Buana\n",
        "# Tugas Besar 1 - Pemrograman Lanjut\n",
        "\n",
        "#Class untuk Mendekode Matrix\n",
        "def decode_matrix(input_matrix):\n",
        "    # Mengambil jumlah baris dan kolom dari input\n",
        "    rows, cols = map(int, input_matrix[0].split())\n",
        "\n",
        "    # Mendeklarasikan matriks kosong\n",
        "    matrix = []\n",
        "\n",
        "    # Mengisi matriks dengan input\n",
        "    for row in input_matrix[1:]:\n",
        "        matrix.append(list(row))\n",
        "\n",
        "    # Mendekode teks dari matriks\n",
        "    decoded_text = ''\n",
        "    for col in range(cols):\n",
        "        for row in range(rows):\n",
        "            # Jika karakter bukan alfanumerik, ganti dengan spasi\n",
        "            if not matrix[row][col].isalnum():\n",
        "                decoded_text += ' '\n",
        "            else:\n",
        "                decoded_text += matrix[row][col]\n",
        "\n",
        "    return decoded_text\n",
        "\n",
        "# Contoh input\n",
        "input_matrix = [\n",
        "    '7 3',\n",
        "    'Tsi',\n",
        "    'h%x',\n",
        "    'i #',\n",
        "    'sM ',\n",
        "    '$a ',\n",
        "    '#t%',\n",
        "    'ir!'\n",
        "]\n",
        "\n",
        "# Mendekode dan mencetak hasil\n",
        "print(decode_matrix(input_matrix))\n",
        "\n",
        "#Class untuk Mendekode Matrix\n",
        "def decode_matrix(input_matrix):\n",
        "    # Mengambil jumlah baris dan kolom dari input\n",
        "    rows, cols = map(int, input_matrix[0].split())\n",
        "\n",
        "    # Mendeklarasikan matriks kosong\n",
        "    matrix = []\n",
        "\n",
        "    # Mengisi matriks dengan input\n",
        "    for row in input_matrix[1:]:\n",
        "        matrix.append(list(row))\n",
        "\n",
        "    # Mendekode teks dari matriks\n",
        "    decoded_text = ''\n",
        "    for col in range(cols):\n",
        "        for row in range(rows):\n",
        "            # Jika karakter bukan alfanumerik, ganti dengan spasi\n",
        "            if not matrix[row][col].isalnum():\n",
        "                decoded_text += ' '\n",
        "            else:\n",
        "                decoded_text += matrix[row][col]\n",
        "\n",
        "    return decoded_text\n",
        "\n",
        "# Baca dan mendekode dari file txt = neomatrix.txt\n",
        "with open('neomatrix.txt', 'r') as file:\n",
        "    input_matrix = file.readlines()\n",
        "\n",
        "# Mendekode dan mencetak hasil\n",
        "print(decode_matrix(input_matrix))\n",
        "\n",
        "# Membuka File Input\n",
        "with open('neomatrix.txt', 'r') as file: #Sesuaikan dengan directory dan nama file\n",
        "    lines = file.readlines()\n",
        "\n",
        "# Membaca File Input\n",
        "file_input = lines[0].rstrip().split()\n",
        "n = int(file_input[0])\n",
        "m = int(file_input[1])\n",
        "\n",
        "# Mendekode File Input\n",
        "neomatrix = lines[1:]\n",
        "decoded_list = list(zip(*neomatrix))\n",
        "decoded_string = ''.join([''.join(item) for item in decoded_list])\n",
        "\n",
        "# Menghapus yang bukan Alfanumerik\n",
        "decoded_string = re.sub(r'[^a-zA-Z0-9]+\\b', r' ', decoded_string).strip()\n",
        "\n",
        "# Print Input yang sudah didekode\n",
        "print(decoded_string)"
      ]
    }
  ]
}