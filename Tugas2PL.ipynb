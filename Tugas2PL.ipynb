{
  "nbformat": 4,
  "nbformat_minor": 0,
  "metadata": {
    "colab": {
      "provenance": []
    },
    "kernelspec": {
      "name": "python3",
      "display_name": "Python 3"
    },
    "language_info": {
      "name": "python"
    }
  },
  "cells": [
    {
      "cell_type": "code",
      "execution_count": 4,
      "metadata": {
        "colab": {
          "base_uri": "https://localhost:8080/"
        },
        "id": "lBxKNSTs8Do0",
        "outputId": "6cd91b21-eed3-4d90-e2bf-9e3dd1deefbb"
      },
      "outputs": [
        {
          "output_type": "stream",
          "name": "stdout",
          "text": [
            "Pilih part!(1/2) \n",
            " Part 1\n",
            " Part 2\n",
            "Pilihan Part: 1\n",
            "Masukkan n: 20\n",
            "0\n",
            "1\n",
            "4\n",
            "9\n",
            "16\n",
            "25\n",
            "36\n",
            "49\n",
            "64\n",
            "81\n",
            "100\n",
            "121\n",
            "144\n",
            "169\n",
            "196\n",
            "225\n",
            "256\n",
            "289\n",
            "324\n",
            "361\n"
          ]
        }
      ],
      "source": [
        "print(\"Pilih part!(1/2) \\n Part 1\\n Part 2\")\n",
        "pilihan = int(input(\"Pilihan Part: \"))\n",
        "\n",
        "import os\n",
        "os.system('cls')\n",
        "\n",
        "if pilihan == 1:\n",
        "    n = int(input(\"Masukkan n: \"))\n",
        "    for i in range(n):\n",
        "        print(i**2)\n",
        "\n",
        "elif pilihan == 2:\n",
        "    n = int(input(\"Masukkan n: \"))\n",
        "    for i in range(n):\n",
        "        if i % 2 == 1 or i == 0:\n",
        "            print(i**2)\n",
        "else:\n",
        "    print (\"Tidak ada\\n\")"
      ]
    }
  ]
}