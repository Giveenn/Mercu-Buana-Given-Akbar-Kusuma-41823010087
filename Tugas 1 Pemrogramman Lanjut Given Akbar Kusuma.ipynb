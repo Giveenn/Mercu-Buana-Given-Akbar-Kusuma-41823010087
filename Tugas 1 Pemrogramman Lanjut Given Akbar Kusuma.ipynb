{
  "nbformat": 4,
  "nbformat_minor": 0,
  "metadata": {
    "colab": {
      "provenance": []
    },
    "kernelspec": {
      "name": "python3",
      "display_name": "Python 3"
    },
    "language_info": {
      "name": "python"
    }
  },
  "cells": [
    {
      "cell_type": "code",
      "execution_count": 1,
      "metadata": {
        "colab": {
          "base_uri": "https://localhost:8080/"
        },
        "id": "nvez0rn86YW8",
        "outputId": "5fc480a2-2a8a-47d7-eb2b-258eb1e94372"
      },
      "outputs": [
        {
          "output_type": "stream",
          "name": "stdout",
          "text": [
            "Selamat datang di Aplikasi perhitungan nilai Mahasiswa\n",
            "Silahkan Masukkan nilai Tugas Anda :\n",
            "90\n",
            "Silahkan Masukkan nilai UTS Anda :\n",
            "80\n",
            "Silahkan Masukkan nilai UAS Anda :\n",
            "80\n",
            "Nilai akhir Anda : 82.5\n",
            "Dalam Huruf : A-\n"
          ]
        }
      ],
      "source": [
        "# Given Akbar Kusuma -41823010087\n",
        "# Universitas Mercu Buana\n",
        "# Tugas 1 Pemrogramman Lanjut\n",
        "def hitung_na (nt, uts, uas):\n",
        "  na = 0.25*nt+0.35*uts+0.4*uas\n",
        "  return na\n",
        "\n",
        "def penilaian(na):\n",
        "  if na > 85:\n",
        "    return \"A\"\n",
        "  elif 80 < na <= 85:\n",
        "    return \"A-\"\n",
        "  elif 75 < na <= 80:\n",
        "    return \"B+\"\n",
        "  elif 70 < na <= 75:\n",
        "    return \"B\"\n",
        "  elif 65 < na <= 70:\n",
        "    return \"B-\"\n",
        "  elif 60 < na <= 65:\n",
        "    return \"C+\"\n",
        "  elif 55 < na <= 60:\n",
        "    return \"C\"\n",
        "  elif 50 < na <= 55:\n",
        "    return \"C-\"\n",
        "  elif 30 < na <= 50:\n",
        "    return \"D\"\n",
        "  else:\n",
        "    return \"E\"\n",
        "\n",
        "print(\"Selamat datang di Aplikasi perhitungan nilai Mahasiswa\")\n",
        "nt = float(input(\"Silahkan Masukkan nilai Tugas Anda :\\n\"))\n",
        "uts = float(input(\"Silahkan Masukkan nilai UTS Anda :\\n\"))\n",
        "uas = float(input(\"Silahkan Masukkan nilai UAS Anda :\\n\"))\n",
        "\n",
        "na = hitung_na (nt, uts, uas)\n",
        "nilai = penilaian (na)\n",
        "\n",
        "print(f\"Nilai akhir Anda : {na}\")\n",
        "print(f\"Dalam Huruf : {nilai}\")\n"
      ]
    }
  ]
}